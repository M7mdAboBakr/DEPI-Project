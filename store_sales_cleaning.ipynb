{
 "cells": [
  {
   "cell_type": "markdown",
   "id": "5152cd2b",
   "metadata": {},
   "source": [
    "# **Import Libraries**"
   ]
  },
  {
   "cell_type": "code",
   "execution_count": 1,
   "id": "cf3fd2bd",
   "metadata": {},
   "outputs": [],
   "source": [
    "import pandas as pd"
   ]
  },
  {
   "cell_type": "markdown",
   "id": "7c263ca3",
   "metadata": {},
   "source": [
    "# **Read & Explore Data**"
   ]
  },
  {
   "cell_type": "code",
   "execution_count": 2,
   "id": "e41f5696",
   "metadata": {},
   "outputs": [],
   "source": [
    "data = pd.read_csv(\"Store Sales.csv\")"
   ]
  },
  {
   "cell_type": "code",
   "execution_count": 3,
   "id": "494ad9b4",
   "metadata": {},
   "outputs": [
    {
     "data": {
      "text/html": [
       "<div>\n",
       "<style scoped>\n",
       "    .dataframe tbody tr th:only-of-type {\n",
       "        vertical-align: middle;\n",
       "    }\n",
       "\n",
       "    .dataframe tbody tr th {\n",
       "        vertical-align: top;\n",
       "    }\n",
       "\n",
       "    .dataframe thead th {\n",
       "        text-align: right;\n",
       "    }\n",
       "</style>\n",
       "<table border=\"1\" class=\"dataframe\">\n",
       "  <thead>\n",
       "    <tr style=\"text-align: right;\">\n",
       "      <th></th>\n",
       "      <th>InvoiceNo</th>\n",
       "      <th>UnitPrice</th>\n",
       "      <th>OrderValue</th>\n",
       "      <th>Quantit</th>\n",
       "      <th>Country</th>\n",
       "      <th>InvoiceDate</th>\n",
       "      <th>InvoiceTime</th>\n",
       "      <th>Year-Month</th>\n",
       "      <th>Major Category</th>\n",
       "      <th>Minor Category</th>\n",
       "      <th>Description</th>\n",
       "    </tr>\n",
       "  </thead>\n",
       "  <tbody>\n",
       "    <tr>\n",
       "      <th>0</th>\n",
       "      <td>549185</td>\n",
       "      <td>0.85</td>\n",
       "      <td>10.20</td>\n",
       "      <td>12</td>\n",
       "      <td>United Kingdom</td>\n",
       "      <td>7/4/11</td>\n",
       "      <td>09:35</td>\n",
       "      <td>2011-04</td>\n",
       "      <td>Clothes</td>\n",
       "      <td>Tops</td>\n",
       "      <td>PACK OF 20 NAPKINS PANTRY DESIGN</td>\n",
       "    </tr>\n",
       "    <tr>\n",
       "      <th>1</th>\n",
       "      <td>576381</td>\n",
       "      <td>2.95</td>\n",
       "      <td>35.40</td>\n",
       "      <td>12</td>\n",
       "      <td>United Kingdom</td>\n",
       "      <td>15/11/11</td>\n",
       "      <td>09:26</td>\n",
       "      <td>2011-11</td>\n",
       "      <td>Clothes</td>\n",
       "      <td>Shoes</td>\n",
       "      <td>NATURAL SLATE HEART CHALKBOARD</td>\n",
       "    </tr>\n",
       "    <tr>\n",
       "      <th>2</th>\n",
       "      <td>551192</td>\n",
       "      <td>1.25</td>\n",
       "      <td>20.00</td>\n",
       "      <td>16</td>\n",
       "      <td>United Kingdom</td>\n",
       "      <td>27/4/11</td>\n",
       "      <td>10:54</td>\n",
       "      <td>2011-04</td>\n",
       "      <td>Kitchen</td>\n",
       "      <td>Cutlery</td>\n",
       "      <td>36 PENCILS TUBE SKULLS</td>\n",
       "    </tr>\n",
       "    <tr>\n",
       "      <th>3</th>\n",
       "      <td>573553</td>\n",
       "      <td>7.46</td>\n",
       "      <td>7.46</td>\n",
       "      <td>1</td>\n",
       "      <td>United Kingdom</td>\n",
       "      <td>31/10/11</td>\n",
       "      <td>13:48</td>\n",
       "      <td>2011-10</td>\n",
       "      <td>Garden</td>\n",
       "      <td>Turf</td>\n",
       "      <td>SET 6 SCHOOL MILK BOTTLES IN CRATE</td>\n",
       "    </tr>\n",
       "    <tr>\n",
       "      <th>4</th>\n",
       "      <td>539436</td>\n",
       "      <td>2.51</td>\n",
       "      <td>2.51</td>\n",
       "      <td>1</td>\n",
       "      <td>United Kingdom</td>\n",
       "      <td>17/12/10</td>\n",
       "      <td>14:49</td>\n",
       "      <td>2010-12</td>\n",
       "      <td>Garden</td>\n",
       "      <td>Hoses</td>\n",
       "      <td>FINE WICKER HEART</td>\n",
       "    </tr>\n",
       "  </tbody>\n",
       "</table>\n",
       "</div>"
      ],
      "text/plain": [
       "   InvoiceNo    UnitPrice  OrderValue  Quantit            Country  \\\n",
       "0       549185       0.85       10.20       12  United Kingdom      \n",
       "1       576381       2.95       35.40       12  United Kingdom      \n",
       "2       551192       1.25       20.00       16  United Kingdom      \n",
       "3       573553       7.46        7.46        1  United Kingdom      \n",
       "4       539436       2.51        2.51        1  United Kingdom      \n",
       "\n",
       "    InvoiceDate  InvoiceTime  Year-Month Major Category  Minor Category  \\\n",
       "0     7/4/11        09:35     2011-04         Clothes              Tops   \n",
       "1   15/11/11        09:26     2011-11         Clothes             Shoes   \n",
       "2    27/4/11        10:54     2011-04         Kitchen           Cutlery   \n",
       "3   31/10/11        13:48     2011-10          Garden              Turf   \n",
       "4   17/12/10        14:49     2010-12          Garden             Hoses   \n",
       "\n",
       "                           Description  \n",
       "0     PACK OF 20 NAPKINS PANTRY DESIGN  \n",
       "1      NATURAL SLATE HEART CHALKBOARD   \n",
       "2               36 PENCILS TUBE SKULLS  \n",
       "3   SET 6 SCHOOL MILK BOTTLES IN CRATE  \n",
       "4                   FINE WICKER HEART   "
      ]
     },
     "execution_count": 3,
     "metadata": {},
     "output_type": "execute_result"
    }
   ],
   "source": [
    "data.head()"
   ]
  },
  {
   "cell_type": "code",
   "execution_count": 4,
   "id": "2f7c78a8",
   "metadata": {},
   "outputs": [
    {
     "name": "stdout",
     "output_type": "stream",
     "text": [
      "<class 'pandas.core.frame.DataFrame'>\n",
      "RangeIndex: 700 entries, 0 to 699\n",
      "Data columns (total 11 columns):\n",
      " #   Column          Non-Null Count  Dtype  \n",
      "---  ------          --------------  -----  \n",
      " 0   InvoiceNo       700 non-null    int64  \n",
      " 1   UnitPrice       700 non-null    float64\n",
      " 2   OrderValue      700 non-null    float64\n",
      " 3   Quantit         700 non-null    int64  \n",
      " 4   Country         700 non-null    object \n",
      " 5    InvoiceDate    700 non-null    object \n",
      " 6   InvoiceTime     700 non-null    object \n",
      " 7   Year-Month      700 non-null    object \n",
      " 8   Major Category  700 non-null    object \n",
      " 9   Minor Category  700 non-null    object \n",
      " 10  Description     700 non-null    object \n",
      "dtypes: float64(2), int64(2), object(7)\n",
      "memory usage: 60.3+ KB\n"
     ]
    }
   ],
   "source": [
    "data.info()"
   ]
  },
  {
   "cell_type": "code",
   "execution_count": 5,
   "id": "2da42ef9",
   "metadata": {},
   "outputs": [
    {
     "data": {
      "text/html": [
       "<div>\n",
       "<style scoped>\n",
       "    .dataframe tbody tr th:only-of-type {\n",
       "        vertical-align: middle;\n",
       "    }\n",
       "\n",
       "    .dataframe tbody tr th {\n",
       "        vertical-align: top;\n",
       "    }\n",
       "\n",
       "    .dataframe thead th {\n",
       "        text-align: right;\n",
       "    }\n",
       "</style>\n",
       "<table border=\"1\" class=\"dataframe\">\n",
       "  <thead>\n",
       "    <tr style=\"text-align: right;\">\n",
       "      <th></th>\n",
       "      <th>InvoiceNo</th>\n",
       "      <th>UnitPrice</th>\n",
       "      <th>OrderValue</th>\n",
       "      <th>Quantit</th>\n",
       "    </tr>\n",
       "  </thead>\n",
       "  <tbody>\n",
       "    <tr>\n",
       "      <th>count</th>\n",
       "      <td>700.000000</td>\n",
       "      <td>700.000000</td>\n",
       "      <td>700.000000</td>\n",
       "      <td>700.000000</td>\n",
       "    </tr>\n",
       "    <tr>\n",
       "      <th>mean</th>\n",
       "      <td>559180.801429</td>\n",
       "      <td>3.367086</td>\n",
       "      <td>31.978471</td>\n",
       "      <td>20.865714</td>\n",
       "    </tr>\n",
       "    <tr>\n",
       "      <th>std</th>\n",
       "      <td>13246.185339</td>\n",
       "      <td>8.280695</td>\n",
       "      <td>63.658083</td>\n",
       "      <td>63.867322</td>\n",
       "    </tr>\n",
       "    <tr>\n",
       "      <th>min</th>\n",
       "      <td>536370.000000</td>\n",
       "      <td>0.120000</td>\n",
       "      <td>0.290000</td>\n",
       "      <td>1.000000</td>\n",
       "    </tr>\n",
       "    <tr>\n",
       "      <th>25%</th>\n",
       "      <td>547501.000000</td>\n",
       "      <td>1.250000</td>\n",
       "      <td>8.290000</td>\n",
       "      <td>3.000000</td>\n",
       "    </tr>\n",
       "    <tr>\n",
       "      <th>50%</th>\n",
       "      <td>559327.500000</td>\n",
       "      <td>1.950000</td>\n",
       "      <td>15.600000</td>\n",
       "      <td>8.000000</td>\n",
       "    </tr>\n",
       "    <tr>\n",
       "      <th>75%</th>\n",
       "      <td>570672.000000</td>\n",
       "      <td>3.750000</td>\n",
       "      <td>25.272500</td>\n",
       "      <td>16.000000</td>\n",
       "    </tr>\n",
       "    <tr>\n",
       "      <th>max</th>\n",
       "      <td>581587.000000</td>\n",
       "      <td>202.420000</td>\n",
       "      <td>633.600000</td>\n",
       "      <td>1152.000000</td>\n",
       "    </tr>\n",
       "  </tbody>\n",
       "</table>\n",
       "</div>"
      ],
      "text/plain": [
       "         InvoiceNo     UnitPrice  OrderValue      Quantit\n",
       "count     700.000000  700.000000  700.000000   700.000000\n",
       "mean   559180.801429    3.367086   31.978471    20.865714\n",
       "std     13246.185339    8.280695   63.658083    63.867322\n",
       "min    536370.000000    0.120000    0.290000     1.000000\n",
       "25%    547501.000000    1.250000    8.290000     3.000000\n",
       "50%    559327.500000    1.950000   15.600000     8.000000\n",
       "75%    570672.000000    3.750000   25.272500    16.000000\n",
       "max    581587.000000  202.420000  633.600000  1152.000000"
      ]
     },
     "execution_count": 5,
     "metadata": {},
     "output_type": "execute_result"
    }
   ],
   "source": [
    "data.describe()"
   ]
  },
  {
   "cell_type": "code",
   "execution_count": 6,
   "id": "75920167",
   "metadata": {},
   "outputs": [
    {
     "data": {
      "text/html": [
       "<div>\n",
       "<style scoped>\n",
       "    .dataframe tbody tr th:only-of-type {\n",
       "        vertical-align: middle;\n",
       "    }\n",
       "\n",
       "    .dataframe tbody tr th {\n",
       "        vertical-align: top;\n",
       "    }\n",
       "\n",
       "    .dataframe thead th {\n",
       "        text-align: right;\n",
       "    }\n",
       "</style>\n",
       "<table border=\"1\" class=\"dataframe\">\n",
       "  <thead>\n",
       "    <tr style=\"text-align: right;\">\n",
       "      <th></th>\n",
       "      <th>Country</th>\n",
       "      <th>InvoiceDate</th>\n",
       "      <th>InvoiceTime</th>\n",
       "      <th>Year-Month</th>\n",
       "      <th>Major Category</th>\n",
       "      <th>Minor Category</th>\n",
       "      <th>Description</th>\n",
       "    </tr>\n",
       "  </thead>\n",
       "  <tbody>\n",
       "    <tr>\n",
       "      <th>count</th>\n",
       "      <td>700</td>\n",
       "      <td>700</td>\n",
       "      <td>700</td>\n",
       "      <td>700</td>\n",
       "      <td>700</td>\n",
       "      <td>700</td>\n",
       "      <td>700</td>\n",
       "    </tr>\n",
       "    <tr>\n",
       "      <th>unique</th>\n",
       "      <td>5</td>\n",
       "      <td>240</td>\n",
       "      <td>341</td>\n",
       "      <td>13</td>\n",
       "      <td>4</td>\n",
       "      <td>17</td>\n",
       "      <td>398</td>\n",
       "    </tr>\n",
       "    <tr>\n",
       "      <th>top</th>\n",
       "      <td>United Kingdom</td>\n",
       "      <td>13/5/11</td>\n",
       "      <td>14:09</td>\n",
       "      <td>2011-11</td>\n",
       "      <td>Garden</td>\n",
       "      <td>Tops</td>\n",
       "      <td>POSTAGE</td>\n",
       "    </tr>\n",
       "    <tr>\n",
       "      <th>freq</th>\n",
       "      <td>300</td>\n",
       "      <td>17</td>\n",
       "      <td>20</td>\n",
       "      <td>106</td>\n",
       "      <td>189</td>\n",
       "      <td>63</td>\n",
       "      <td>11</td>\n",
       "    </tr>\n",
       "  </tbody>\n",
       "</table>\n",
       "</div>"
      ],
      "text/plain": [
       "                  Country   InvoiceDate  InvoiceTime  Year-Month  \\\n",
       "count                 700           700          700         700   \n",
       "unique                  5           240          341          13   \n",
       "top     United Kingdom       13/5/11        14:09     2011-11      \n",
       "freq                  300            17           20         106   \n",
       "\n",
       "       Major Category  Minor Category                          Description  \n",
       "count             700             700                                  700  \n",
       "unique              4              17                                  398  \n",
       "top          Garden              Tops                              POSTAGE  \n",
       "freq              189              63                                   11  "
      ]
     },
     "execution_count": 6,
     "metadata": {},
     "output_type": "execute_result"
    }
   ],
   "source": [
    "data.describe(include='O')    "
   ]
  },
  {
   "cell_type": "markdown",
   "id": "4df35886",
   "metadata": {},
   "source": [
    "## Check Nulls & Dublicates"
   ]
  },
  {
   "cell_type": "code",
   "execution_count": 7,
   "id": "b4268353",
   "metadata": {},
   "outputs": [
    {
     "data": {
      "text/plain": [
       "InvoiceNo         0\n",
       "UnitPrice         0\n",
       "OrderValue        0\n",
       "Quantit           0\n",
       "Country           0\n",
       " InvoiceDate      0\n",
       "InvoiceTime       0\n",
       "Year-Month        0\n",
       "Major Category    0\n",
       "Minor Category    0\n",
       "Description       0\n",
       "dtype: int64"
      ]
     },
     "execution_count": 7,
     "metadata": {},
     "output_type": "execute_result"
    }
   ],
   "source": [
    "# Checking for missing values\n",
    "data.isnull().sum()"
   ]
  },
  {
   "cell_type": "code",
   "execution_count": 8,
   "id": "0a67d10f",
   "metadata": {},
   "outputs": [
    {
     "data": {
      "text/plain": [
       "0"
      ]
     },
     "execution_count": 8,
     "metadata": {},
     "output_type": "execute_result"
    }
   ],
   "source": [
    "# Checking for duplicates\n",
    "data.duplicated().sum()"
   ]
  },
  {
   "cell_type": "markdown",
   "id": "8a64655d",
   "metadata": {},
   "source": [
    "# **Data Cleaning**"
   ]
  },
  {
   "cell_type": "code",
   "execution_count": 9,
   "id": "25e24518",
   "metadata": {},
   "outputs": [],
   "source": [
    "# Taking copy from original data\n",
    "df = data.copy()"
   ]
  },
  {
   "cell_type": "markdown",
   "id": "1430e079",
   "metadata": {},
   "source": [
    "## Rename Columns"
   ]
  },
  {
   "cell_type": "code",
   "execution_count": 10,
   "id": "e2e747b2",
   "metadata": {},
   "outputs": [
    {
     "name": "stdout",
     "output_type": "stream",
     "text": [
      "Index(['InvoiceNo  ', 'UnitPrice', 'OrderValue', 'Quantit', 'Country',\n",
      "       ' InvoiceDate', 'InvoiceTime', 'Year-Month', 'Major Category',\n",
      "       'Minor Category', 'Description'],\n",
      "      dtype='object')\n"
     ]
    }
   ],
   "source": [
    "# Viewing columns\n",
    "print(df.columns)"
   ]
  },
  {
   "cell_type": "code",
   "execution_count": 11,
   "id": "9fcce131",
   "metadata": {},
   "outputs": [
    {
     "name": "stdout",
     "output_type": "stream",
     "text": [
      "Index(['invoice_no', 'unit_price', 'order_value', 'quantity', 'country',\n",
      "       'invoice_date', 'invoice_time', 'year_month', 'major_category',\n",
      "       'minor_category', 'description'],\n",
      "      dtype='object')\n"
     ]
    }
   ],
   "source": [
    "# Renaming (snake_case)\n",
    "df.columns = ['invoice_no', 'unit_price', 'order_value', 'quantity', 'country', 'invoice_date', 'invoice_time', 'year_month', 'major_category', 'minor_category', 'description']\n",
    "print(df.columns)"
   ]
  },
  {
   "cell_type": "markdown",
   "id": "b2871e45",
   "metadata": {},
   "source": [
    "## Drop Unnecessary Columns"
   ]
  },
  {
   "cell_type": "code",
   "execution_count": 12,
   "id": "3e034682",
   "metadata": {},
   "outputs": [
    {
     "data": {
      "text/html": [
       "<div>\n",
       "<style scoped>\n",
       "    .dataframe tbody tr th:only-of-type {\n",
       "        vertical-align: middle;\n",
       "    }\n",
       "\n",
       "    .dataframe tbody tr th {\n",
       "        vertical-align: top;\n",
       "    }\n",
       "\n",
       "    .dataframe thead th {\n",
       "        text-align: right;\n",
       "    }\n",
       "</style>\n",
       "<table border=\"1\" class=\"dataframe\">\n",
       "  <thead>\n",
       "    <tr style=\"text-align: right;\">\n",
       "      <th></th>\n",
       "      <th>unit_price</th>\n",
       "      <th>order_value</th>\n",
       "      <th>quantity</th>\n",
       "      <th>country</th>\n",
       "      <th>invoice_date</th>\n",
       "      <th>invoice_time</th>\n",
       "      <th>major_category</th>\n",
       "      <th>minor_category</th>\n",
       "      <th>description</th>\n",
       "    </tr>\n",
       "  </thead>\n",
       "  <tbody>\n",
       "    <tr>\n",
       "      <th>0</th>\n",
       "      <td>0.85</td>\n",
       "      <td>10.20</td>\n",
       "      <td>12</td>\n",
       "      <td>United Kingdom</td>\n",
       "      <td>7/4/11</td>\n",
       "      <td>09:35</td>\n",
       "      <td>Clothes</td>\n",
       "      <td>Tops</td>\n",
       "      <td>PACK OF 20 NAPKINS PANTRY DESIGN</td>\n",
       "    </tr>\n",
       "    <tr>\n",
       "      <th>1</th>\n",
       "      <td>2.95</td>\n",
       "      <td>35.40</td>\n",
       "      <td>12</td>\n",
       "      <td>United Kingdom</td>\n",
       "      <td>15/11/11</td>\n",
       "      <td>09:26</td>\n",
       "      <td>Clothes</td>\n",
       "      <td>Shoes</td>\n",
       "      <td>NATURAL SLATE HEART CHALKBOARD</td>\n",
       "    </tr>\n",
       "    <tr>\n",
       "      <th>2</th>\n",
       "      <td>1.25</td>\n",
       "      <td>20.00</td>\n",
       "      <td>16</td>\n",
       "      <td>United Kingdom</td>\n",
       "      <td>27/4/11</td>\n",
       "      <td>10:54</td>\n",
       "      <td>Kitchen</td>\n",
       "      <td>Cutlery</td>\n",
       "      <td>36 PENCILS TUBE SKULLS</td>\n",
       "    </tr>\n",
       "    <tr>\n",
       "      <th>3</th>\n",
       "      <td>7.46</td>\n",
       "      <td>7.46</td>\n",
       "      <td>1</td>\n",
       "      <td>United Kingdom</td>\n",
       "      <td>31/10/11</td>\n",
       "      <td>13:48</td>\n",
       "      <td>Garden</td>\n",
       "      <td>Turf</td>\n",
       "      <td>SET 6 SCHOOL MILK BOTTLES IN CRATE</td>\n",
       "    </tr>\n",
       "    <tr>\n",
       "      <th>4</th>\n",
       "      <td>2.51</td>\n",
       "      <td>2.51</td>\n",
       "      <td>1</td>\n",
       "      <td>United Kingdom</td>\n",
       "      <td>17/12/10</td>\n",
       "      <td>14:49</td>\n",
       "      <td>Garden</td>\n",
       "      <td>Hoses</td>\n",
       "      <td>FINE WICKER HEART</td>\n",
       "    </tr>\n",
       "  </tbody>\n",
       "</table>\n",
       "</div>"
      ],
      "text/plain": [
       "   unit_price  order_value  quantity            country  invoice_date  \\\n",
       "0        0.85        10.20        12  United Kingdom        7/4/11      \n",
       "1        2.95        35.40        12  United Kingdom      15/11/11      \n",
       "2        1.25        20.00        16  United Kingdom       27/4/11      \n",
       "3        7.46         7.46         1  United Kingdom      31/10/11      \n",
       "4        2.51         2.51         1  United Kingdom      17/12/10      \n",
       "\n",
       "  invoice_time major_category  minor_category  \\\n",
       "0     09:35         Clothes              Tops   \n",
       "1     09:26         Clothes             Shoes   \n",
       "2     10:54         Kitchen           Cutlery   \n",
       "3     13:48          Garden              Turf   \n",
       "4     14:49          Garden             Hoses   \n",
       "\n",
       "                           description  \n",
       "0     PACK OF 20 NAPKINS PANTRY DESIGN  \n",
       "1      NATURAL SLATE HEART CHALKBOARD   \n",
       "2               36 PENCILS TUBE SKULLS  \n",
       "3   SET 6 SCHOOL MILK BOTTLES IN CRATE  \n",
       "4                   FINE WICKER HEART   "
      ]
     },
     "execution_count": 12,
     "metadata": {},
     "output_type": "execute_result"
    }
   ],
   "source": [
    "df.drop(['invoice_no', 'year_month'], axis=1, inplace=True)\n",
    "df.head()"
   ]
  },
  {
   "cell_type": "markdown",
   "id": "a1b9dbc9",
   "metadata": {},
   "source": [
    "## Remove Leading and Trailing Spaces"
   ]
  },
  {
   "cell_type": "code",
   "execution_count": 13,
   "id": "8ab9716a",
   "metadata": {},
   "outputs": [
    {
     "data": {
      "text/plain": [
       "'    Clothes  '"
      ]
     },
     "execution_count": 13,
     "metadata": {},
     "output_type": "execute_result"
    }
   ],
   "source": [
    "df['major_category'][0]"
   ]
  },
  {
   "cell_type": "code",
   "execution_count": 14,
   "id": "c060ea65",
   "metadata": {},
   "outputs": [],
   "source": [
    "# Removing spaces\n",
    "df = df.apply(lambda x: x.str.strip() if x.dtype == 'object' else x)"
   ]
  },
  {
   "cell_type": "code",
   "execution_count": 15,
   "id": "9d95693d",
   "metadata": {},
   "outputs": [
    {
     "data": {
      "text/plain": [
       "'Clothes'"
      ]
     },
     "execution_count": 15,
     "metadata": {},
     "output_type": "execute_result"
    }
   ],
   "source": [
    "df['major_category'][0]"
   ]
  },
  {
   "cell_type": "markdown",
   "id": "20125d3e",
   "metadata": {},
   "source": [
    "## **Change Data Types**"
   ]
  },
  {
   "cell_type": "markdown",
   "id": "8766db79",
   "metadata": {},
   "source": [
    "### 'invoice_date' to datetime"
   ]
  },
  {
   "cell_type": "code",
   "execution_count": 16,
   "id": "d7c1e175",
   "metadata": {},
   "outputs": [
    {
     "data": {
      "text/plain": [
       "0        7/4/11\n",
       "1      15/11/11\n",
       "2       27/4/11\n",
       "3      31/10/11\n",
       "4      17/12/10\n",
       "         ...   \n",
       "695     23/8/11\n",
       "696     13/5/11\n",
       "697     23/8/11\n",
       "698     13/5/11\n",
       "699     23/8/11\n",
       "Name: invoice_date, Length: 700, dtype: object"
      ]
     },
     "execution_count": 16,
     "metadata": {},
     "output_type": "execute_result"
    }
   ],
   "source": [
    "df.invoice_date"
   ]
  },
  {
   "cell_type": "code",
   "execution_count": 17,
   "id": "db06a1ab",
   "metadata": {},
   "outputs": [
    {
     "name": "stderr",
     "output_type": "stream",
     "text": [
      "C:\\Users\\fg\\AppData\\Local\\Temp\\ipykernel_15620\\3021235846.py:2: UserWarning: Could not infer format, so each element will be parsed individually, falling back to `dateutil`. To ensure parsing is consistent and as-expected, please specify a format.\n",
      "  df.invoice_date = pd.to_datetime(df.invoice_date)\n"
     ]
    },
    {
     "data": {
      "text/plain": [
       "0     2011-07-04\n",
       "1     2011-11-15\n",
       "2     2011-04-27\n",
       "3     2011-10-31\n",
       "4     2010-12-17\n",
       "         ...    \n",
       "695   2011-08-23\n",
       "696   2011-05-13\n",
       "697   2011-08-23\n",
       "698   2011-05-13\n",
       "699   2011-08-23\n",
       "Name: invoice_date, Length: 700, dtype: datetime64[ns]"
      ]
     },
     "execution_count": 17,
     "metadata": {},
     "output_type": "execute_result"
    }
   ],
   "source": [
    "# Converting to datatime\n",
    "df.invoice_date = pd.to_datetime(df.invoice_date)\n",
    "df.invoice_date"
   ]
  },
  {
   "cell_type": "markdown",
   "id": "4d10849a",
   "metadata": {},
   "source": [
    "### 'invoice_time' to timedelta"
   ]
  },
  {
   "cell_type": "code",
   "execution_count": 18,
   "id": "693c13da",
   "metadata": {},
   "outputs": [
    {
     "data": {
      "text/plain": [
       "0      09:35\n",
       "1      09:26\n",
       "2      10:54\n",
       "3      13:48\n",
       "4      14:49\n",
       "       ...  \n",
       "695    09:38\n",
       "696    14:09\n",
       "697    09:38\n",
       "698    14:09\n",
       "699    09:38\n",
       "Name: invoice_time, Length: 700, dtype: object"
      ]
     },
     "execution_count": 18,
     "metadata": {},
     "output_type": "execute_result"
    }
   ],
   "source": [
    "df.invoice_time"
   ]
  },
  {
   "cell_type": "code",
   "execution_count": 19,
   "id": "ad9e38fa",
   "metadata": {},
   "outputs": [
    {
     "data": {
      "text/plain": [
       "0      09:35:00\n",
       "1      09:26:00\n",
       "2      10:54:00\n",
       "3      13:48:00\n",
       "4      14:49:00\n",
       "         ...   \n",
       "695    09:38:00\n",
       "696    14:09:00\n",
       "697    09:38:00\n",
       "698    14:09:00\n",
       "699    09:38:00\n",
       "Name: invoice_time, Length: 700, dtype: object"
      ]
     },
     "execution_count": 19,
     "metadata": {},
     "output_type": "execute_result"
    }
   ],
   "source": [
    "# Converting to timedelta\n",
    "df.invoice_time = df.invoice_time.apply(lambda x: x + ':00')\n",
    "df.invoice_time"
   ]
  },
  {
   "cell_type": "code",
   "execution_count": 20,
   "id": "9855b0a4",
   "metadata": {},
   "outputs": [
    {
     "data": {
      "text/plain": [
       "0     0 days 09:35:00\n",
       "1     0 days 09:26:00\n",
       "2     0 days 10:54:00\n",
       "3     0 days 13:48:00\n",
       "4     0 days 14:49:00\n",
       "            ...      \n",
       "695   0 days 09:38:00\n",
       "696   0 days 14:09:00\n",
       "697   0 days 09:38:00\n",
       "698   0 days 14:09:00\n",
       "699   0 days 09:38:00\n",
       "Name: invoice_time, Length: 700, dtype: timedelta64[ns]"
      ]
     },
     "execution_count": 20,
     "metadata": {},
     "output_type": "execute_result"
    }
   ],
   "source": [
    "df.invoice_time = pd.to_timedelta(df.invoice_time)\n",
    "df.invoice_time"
   ]
  },
  {
   "cell_type": "markdown",
   "id": "6c399aac",
   "metadata": {},
   "source": [
    "## **Handling Outliers**"
   ]
  },
  {
   "cell_type": "markdown",
   "id": "a7422c6e",
   "metadata": {},
   "source": [
    "### 'unit_price'"
   ]
  },
  {
   "cell_type": "code",
   "execution_count": 21,
   "id": "53535007",
   "metadata": {},
   "outputs": [
    {
     "data": {
      "text/plain": [
       "count    700.000000\n",
       "mean       3.367086\n",
       "std        8.280695\n",
       "min        0.120000\n",
       "25%        1.250000\n",
       "50%        1.950000\n",
       "75%        3.750000\n",
       "max      202.420000\n",
       "Name: unit_price, dtype: float64"
      ]
     },
     "execution_count": 21,
     "metadata": {},
     "output_type": "execute_result"
    }
   ],
   "source": [
    "# Checking 'unit_price' outliers\n",
    "df.unit_price.describe()"
   ]
  },
  {
   "cell_type": "code",
   "execution_count": 22,
   "id": "cc1ef413",
   "metadata": {},
   "outputs": [
    {
     "data": {
      "text/plain": [
       "0.80      4.250\n",
       "0.90      7.118\n",
       "0.93      8.250\n",
       "0.95      9.992\n",
       "0.98     18.000\n",
       "0.99     18.000\n",
       "1.00    202.420\n",
       "Name: unit_price, dtype: float64"
      ]
     },
     "execution_count": 22,
     "metadata": {},
     "output_type": "execute_result"
    }
   ],
   "source": [
    "# Quantiles\n",
    "df.unit_price.quantile([0.8, 0.9, 0.93, 0.95, 0.98, 0.99, 1])"
   ]
  },
  {
   "cell_type": "code",
   "execution_count": 23,
   "id": "28e391e4",
   "metadata": {},
   "outputs": [
    {
     "data": {
      "text/plain": [
       "unit_price        35\n",
       "order_value       35\n",
       "quantity          35\n",
       "country           35\n",
       "invoice_date      35\n",
       "invoice_time      35\n",
       "major_category    35\n",
       "minor_category    35\n",
       "description       35\n",
       "dtype: int64"
      ]
     },
     "execution_count": 23,
     "metadata": {},
     "output_type": "execute_result"
    }
   ],
   "source": [
    "# Counting outliers\n",
    "df[df.unit_price > 10].count()"
   ]
  },
  {
   "cell_type": "code",
   "execution_count": 24,
   "id": "8cda5eb6",
   "metadata": {},
   "outputs": [],
   "source": [
    "## Removing outliers\n",
    "df = df[df.unit_price <= 10]"
   ]
  },
  {
   "cell_type": "code",
   "execution_count": 25,
   "id": "ccb8d8b5",
   "metadata": {},
   "outputs": [
    {
     "data": {
      "text/plain": [
       "count    665.000000\n",
       "mean       2.470165\n",
       "std        2.014000\n",
       "min        0.120000\n",
       "25%        1.000000\n",
       "50%        1.660000\n",
       "75%        3.290000\n",
       "max        9.950000\n",
       "Name: unit_price, dtype: float64"
      ]
     },
     "execution_count": 25,
     "metadata": {},
     "output_type": "execute_result"
    }
   ],
   "source": [
    "df.unit_price.describe()"
   ]
  },
  {
   "cell_type": "markdown",
   "id": "3e023f38",
   "metadata": {},
   "source": [
    "### 'order_values'"
   ]
  },
  {
   "cell_type": "code",
   "execution_count": 26,
   "id": "5557ccd8",
   "metadata": {},
   "outputs": [
    {
     "data": {
      "text/plain": [
       "count    665.000000\n",
       "mean      30.486947\n",
       "std       62.356695\n",
       "min        0.290000\n",
       "25%        7.800000\n",
       "50%       15.000000\n",
       "75%       24.960000\n",
       "max      633.600000\n",
       "Name: order_value, dtype: float64"
      ]
     },
     "execution_count": 26,
     "metadata": {},
     "output_type": "execute_result"
    }
   ],
   "source": [
    "# Checking 'order_value' outliers\n",
    "df.order_value.describe()"
   ]
  },
  {
   "cell_type": "code",
   "execution_count": 27,
   "id": "0e137715",
   "metadata": {},
   "outputs": [
    {
     "data": {
      "text/plain": [
       "0.80     30.0000\n",
       "0.90     59.4000\n",
       "0.93     75.3120\n",
       "0.94     86.4720\n",
       "0.95    121.9200\n",
       "0.98    233.2320\n",
       "0.99    393.3696\n",
       "1.00    633.6000\n",
       "Name: order_value, dtype: float64"
      ]
     },
     "execution_count": 27,
     "metadata": {},
     "output_type": "execute_result"
    }
   ],
   "source": [
    "## Quantiles\n",
    "df.order_value.quantile([0.8, 0.9, 0.93, 0.94, 0.95, 0.98, 0.99, 1])"
   ]
  },
  {
   "cell_type": "code",
   "execution_count": 28,
   "id": "4b536970",
   "metadata": {},
   "outputs": [
    {
     "data": {
      "text/plain": [
       "unit_price        41\n",
       "order_value       41\n",
       "quantity          41\n",
       "country           41\n",
       "invoice_date      41\n",
       "invoice_time      41\n",
       "major_category    41\n",
       "minor_category    41\n",
       "description       41\n",
       "dtype: int64"
      ]
     },
     "execution_count": 28,
     "metadata": {},
     "output_type": "execute_result"
    }
   ],
   "source": [
    "## Counting outliers\n",
    "df[df.order_value > 85].count()"
   ]
  },
  {
   "cell_type": "code",
   "execution_count": 29,
   "id": "d08e6d59",
   "metadata": {},
   "outputs": [],
   "source": [
    "## Removing outliers\n",
    "df = df[df.order_value <= 85]"
   ]
  },
  {
   "cell_type": "code",
   "execution_count": 30,
   "id": "01b1fbc2",
   "metadata": {},
   "outputs": [
    {
     "data": {
      "text/plain": [
       "count    624.000000\n",
       "mean      17.712853\n",
       "std       15.704815\n",
       "min        0.290000\n",
       "25%        7.492500\n",
       "50%       15.000000\n",
       "75%       20.462500\n",
       "max       81.600000\n",
       "Name: order_value, dtype: float64"
      ]
     },
     "execution_count": 30,
     "metadata": {},
     "output_type": "execute_result"
    }
   ],
   "source": [
    "df.order_value.describe()"
   ]
  },
  {
   "cell_type": "markdown",
   "id": "6fb599fa",
   "metadata": {},
   "source": [
    "### 'quantity'"
   ]
  },
  {
   "cell_type": "code",
   "execution_count": 31,
   "id": "eb0d30ea",
   "metadata": {},
   "outputs": [
    {
     "data": {
      "text/plain": [
       "count    624.000000\n",
       "mean      12.562500\n",
       "std       22.452074\n",
       "min        1.000000\n",
       "25%        3.000000\n",
       "50%        8.000000\n",
       "75%       12.000000\n",
       "max      360.000000\n",
       "Name: quantity, dtype: float64"
      ]
     },
     "execution_count": 31,
     "metadata": {},
     "output_type": "execute_result"
    }
   ],
   "source": [
    "# Checking 'quantity' outliers\n",
    "df.quantity.describe()"
   ]
  },
  {
   "cell_type": "code",
   "execution_count": 32,
   "id": "2ccbccbc",
   "metadata": {},
   "outputs": [
    {
     "data": {
      "text/plain": [
       "0.80     18.0\n",
       "0.90     24.0\n",
       "0.93     25.0\n",
       "0.94     25.0\n",
       "0.95     32.0\n",
       "0.98     60.0\n",
       "0.99     96.0\n",
       "1.00    360.0\n",
       "Name: quantity, dtype: float64"
      ]
     },
     "execution_count": 32,
     "metadata": {},
     "output_type": "execute_result"
    }
   ],
   "source": [
    "# Quantiles\n",
    "df.quantity.quantile([0.8, 0.9, 0.93, 0.94, 0.95, 0.98, 0.99, 1])"
   ]
  },
  {
   "cell_type": "code",
   "execution_count": 33,
   "id": "74d0cb5f",
   "metadata": {},
   "outputs": [
    {
     "data": {
      "text/plain": [
       "unit_price        30\n",
       "order_value       30\n",
       "quantity          30\n",
       "country           30\n",
       "invoice_date      30\n",
       "invoice_time      30\n",
       "major_category    30\n",
       "minor_category    30\n",
       "description       30\n",
       "dtype: int64"
      ]
     },
     "execution_count": 33,
     "metadata": {},
     "output_type": "execute_result"
    }
   ],
   "source": [
    "# Counting outliers\n",
    "df[df.quantity > 32].count()"
   ]
  },
  {
   "cell_type": "code",
   "execution_count": 34,
   "id": "24381169",
   "metadata": {},
   "outputs": [],
   "source": [
    "# Removing outliers\n",
    "df = df[df.quantity <= 32]"
   ]
  },
  {
   "cell_type": "code",
   "execution_count": 35,
   "id": "1395e241",
   "metadata": {},
   "outputs": [
    {
     "data": {
      "text/plain": [
       "count    594.000000\n",
       "mean       9.106061\n",
       "std        7.579852\n",
       "min        1.000000\n",
       "25%        3.000000\n",
       "50%        8.000000\n",
       "75%       12.000000\n",
       "max       32.000000\n",
       "Name: quantity, dtype: float64"
      ]
     },
     "execution_count": 35,
     "metadata": {},
     "output_type": "execute_result"
    }
   ],
   "source": [
    "df.quantity.describe()"
   ]
  },
  {
   "cell_type": "markdown",
   "id": "98f482ea",
   "metadata": {},
   "source": [
    "# **Conclusion**"
   ]
  },
  {
   "cell_type": "markdown",
   "id": "917eb0e1",
   "metadata": {},
   "source": [
    "## Data Before Cleaning\n"
   ]
  },
  {
   "cell_type": "code",
   "execution_count": 36,
   "id": "964c88cb",
   "metadata": {},
   "outputs": [
    {
     "data": {
      "text/html": [
       "<div>\n",
       "<style scoped>\n",
       "    .dataframe tbody tr th:only-of-type {\n",
       "        vertical-align: middle;\n",
       "    }\n",
       "\n",
       "    .dataframe tbody tr th {\n",
       "        vertical-align: top;\n",
       "    }\n",
       "\n",
       "    .dataframe thead th {\n",
       "        text-align: right;\n",
       "    }\n",
       "</style>\n",
       "<table border=\"1\" class=\"dataframe\">\n",
       "  <thead>\n",
       "    <tr style=\"text-align: right;\">\n",
       "      <th></th>\n",
       "      <th>InvoiceNo</th>\n",
       "      <th>UnitPrice</th>\n",
       "      <th>OrderValue</th>\n",
       "      <th>Quantit</th>\n",
       "      <th>Country</th>\n",
       "      <th>InvoiceDate</th>\n",
       "      <th>InvoiceTime</th>\n",
       "      <th>Year-Month</th>\n",
       "      <th>Major Category</th>\n",
       "      <th>Minor Category</th>\n",
       "      <th>Description</th>\n",
       "    </tr>\n",
       "  </thead>\n",
       "  <tbody>\n",
       "    <tr>\n",
       "      <th>0</th>\n",
       "      <td>549185</td>\n",
       "      <td>0.85</td>\n",
       "      <td>10.20</td>\n",
       "      <td>12</td>\n",
       "      <td>United Kingdom</td>\n",
       "      <td>7/4/11</td>\n",
       "      <td>09:35</td>\n",
       "      <td>2011-04</td>\n",
       "      <td>Clothes</td>\n",
       "      <td>Tops</td>\n",
       "      <td>PACK OF 20 NAPKINS PANTRY DESIGN</td>\n",
       "    </tr>\n",
       "    <tr>\n",
       "      <th>1</th>\n",
       "      <td>576381</td>\n",
       "      <td>2.95</td>\n",
       "      <td>35.40</td>\n",
       "      <td>12</td>\n",
       "      <td>United Kingdom</td>\n",
       "      <td>15/11/11</td>\n",
       "      <td>09:26</td>\n",
       "      <td>2011-11</td>\n",
       "      <td>Clothes</td>\n",
       "      <td>Shoes</td>\n",
       "      <td>NATURAL SLATE HEART CHALKBOARD</td>\n",
       "    </tr>\n",
       "    <tr>\n",
       "      <th>2</th>\n",
       "      <td>551192</td>\n",
       "      <td>1.25</td>\n",
       "      <td>20.00</td>\n",
       "      <td>16</td>\n",
       "      <td>United Kingdom</td>\n",
       "      <td>27/4/11</td>\n",
       "      <td>10:54</td>\n",
       "      <td>2011-04</td>\n",
       "      <td>Kitchen</td>\n",
       "      <td>Cutlery</td>\n",
       "      <td>36 PENCILS TUBE SKULLS</td>\n",
       "    </tr>\n",
       "    <tr>\n",
       "      <th>3</th>\n",
       "      <td>573553</td>\n",
       "      <td>7.46</td>\n",
       "      <td>7.46</td>\n",
       "      <td>1</td>\n",
       "      <td>United Kingdom</td>\n",
       "      <td>31/10/11</td>\n",
       "      <td>13:48</td>\n",
       "      <td>2011-10</td>\n",
       "      <td>Garden</td>\n",
       "      <td>Turf</td>\n",
       "      <td>SET 6 SCHOOL MILK BOTTLES IN CRATE</td>\n",
       "    </tr>\n",
       "    <tr>\n",
       "      <th>4</th>\n",
       "      <td>539436</td>\n",
       "      <td>2.51</td>\n",
       "      <td>2.51</td>\n",
       "      <td>1</td>\n",
       "      <td>United Kingdom</td>\n",
       "      <td>17/12/10</td>\n",
       "      <td>14:49</td>\n",
       "      <td>2010-12</td>\n",
       "      <td>Garden</td>\n",
       "      <td>Hoses</td>\n",
       "      <td>FINE WICKER HEART</td>\n",
       "    </tr>\n",
       "  </tbody>\n",
       "</table>\n",
       "</div>"
      ],
      "text/plain": [
       "   InvoiceNo    UnitPrice  OrderValue  Quantit            Country  \\\n",
       "0       549185       0.85       10.20       12  United Kingdom      \n",
       "1       576381       2.95       35.40       12  United Kingdom      \n",
       "2       551192       1.25       20.00       16  United Kingdom      \n",
       "3       573553       7.46        7.46        1  United Kingdom      \n",
       "4       539436       2.51        2.51        1  United Kingdom      \n",
       "\n",
       "    InvoiceDate  InvoiceTime  Year-Month Major Category  Minor Category  \\\n",
       "0     7/4/11        09:35     2011-04         Clothes              Tops   \n",
       "1   15/11/11        09:26     2011-11         Clothes             Shoes   \n",
       "2    27/4/11        10:54     2011-04         Kitchen           Cutlery   \n",
       "3   31/10/11        13:48     2011-10          Garden              Turf   \n",
       "4   17/12/10        14:49     2010-12          Garden             Hoses   \n",
       "\n",
       "                           Description  \n",
       "0     PACK OF 20 NAPKINS PANTRY DESIGN  \n",
       "1      NATURAL SLATE HEART CHALKBOARD   \n",
       "2               36 PENCILS TUBE SKULLS  \n",
       "3   SET 6 SCHOOL MILK BOTTLES IN CRATE  \n",
       "4                   FINE WICKER HEART   "
      ]
     },
     "execution_count": 36,
     "metadata": {},
     "output_type": "execute_result"
    }
   ],
   "source": [
    "data.head()"
   ]
  },
  {
   "cell_type": "code",
   "execution_count": 37,
   "id": "13538149",
   "metadata": {},
   "outputs": [
    {
     "name": "stdout",
     "output_type": "stream",
     "text": [
      "<class 'pandas.core.frame.DataFrame'>\n",
      "RangeIndex: 700 entries, 0 to 699\n",
      "Data columns (total 11 columns):\n",
      " #   Column          Non-Null Count  Dtype  \n",
      "---  ------          --------------  -----  \n",
      " 0   InvoiceNo       700 non-null    int64  \n",
      " 1   UnitPrice       700 non-null    float64\n",
      " 2   OrderValue      700 non-null    float64\n",
      " 3   Quantit         700 non-null    int64  \n",
      " 4   Country         700 non-null    object \n",
      " 5    InvoiceDate    700 non-null    object \n",
      " 6   InvoiceTime     700 non-null    object \n",
      " 7   Year-Month      700 non-null    object \n",
      " 8   Major Category  700 non-null    object \n",
      " 9   Minor Category  700 non-null    object \n",
      " 10  Description     700 non-null    object \n",
      "dtypes: float64(2), int64(2), object(7)\n",
      "memory usage: 60.3+ KB\n"
     ]
    }
   ],
   "source": [
    "data.info()"
   ]
  },
  {
   "cell_type": "markdown",
   "id": "ccca64bb",
   "metadata": {},
   "source": [
    "## Data After Cleanging"
   ]
  },
  {
   "cell_type": "code",
   "execution_count": 38,
   "id": "49b4bbbe",
   "metadata": {},
   "outputs": [
    {
     "data": {
      "text/html": [
       "<div>\n",
       "<style scoped>\n",
       "    .dataframe tbody tr th:only-of-type {\n",
       "        vertical-align: middle;\n",
       "    }\n",
       "\n",
       "    .dataframe tbody tr th {\n",
       "        vertical-align: top;\n",
       "    }\n",
       "\n",
       "    .dataframe thead th {\n",
       "        text-align: right;\n",
       "    }\n",
       "</style>\n",
       "<table border=\"1\" class=\"dataframe\">\n",
       "  <thead>\n",
       "    <tr style=\"text-align: right;\">\n",
       "      <th></th>\n",
       "      <th>unit_price</th>\n",
       "      <th>order_value</th>\n",
       "      <th>quantity</th>\n",
       "      <th>country</th>\n",
       "      <th>invoice_date</th>\n",
       "      <th>invoice_time</th>\n",
       "      <th>major_category</th>\n",
       "      <th>minor_category</th>\n",
       "      <th>description</th>\n",
       "    </tr>\n",
       "  </thead>\n",
       "  <tbody>\n",
       "    <tr>\n",
       "      <th>0</th>\n",
       "      <td>0.85</td>\n",
       "      <td>10.20</td>\n",
       "      <td>12</td>\n",
       "      <td>United Kingdom</td>\n",
       "      <td>2011-07-04</td>\n",
       "      <td>0 days 09:35:00</td>\n",
       "      <td>Clothes</td>\n",
       "      <td>Tops</td>\n",
       "      <td>PACK OF 20 NAPKINS PANTRY DESIGN</td>\n",
       "    </tr>\n",
       "    <tr>\n",
       "      <th>1</th>\n",
       "      <td>2.95</td>\n",
       "      <td>35.40</td>\n",
       "      <td>12</td>\n",
       "      <td>United Kingdom</td>\n",
       "      <td>2011-11-15</td>\n",
       "      <td>0 days 09:26:00</td>\n",
       "      <td>Clothes</td>\n",
       "      <td>Shoes</td>\n",
       "      <td>NATURAL SLATE HEART CHALKBOARD</td>\n",
       "    </tr>\n",
       "    <tr>\n",
       "      <th>2</th>\n",
       "      <td>1.25</td>\n",
       "      <td>20.00</td>\n",
       "      <td>16</td>\n",
       "      <td>United Kingdom</td>\n",
       "      <td>2011-04-27</td>\n",
       "      <td>0 days 10:54:00</td>\n",
       "      <td>Kitchen</td>\n",
       "      <td>Cutlery</td>\n",
       "      <td>36 PENCILS TUBE SKULLS</td>\n",
       "    </tr>\n",
       "    <tr>\n",
       "      <th>3</th>\n",
       "      <td>7.46</td>\n",
       "      <td>7.46</td>\n",
       "      <td>1</td>\n",
       "      <td>United Kingdom</td>\n",
       "      <td>2011-10-31</td>\n",
       "      <td>0 days 13:48:00</td>\n",
       "      <td>Garden</td>\n",
       "      <td>Turf</td>\n",
       "      <td>SET 6 SCHOOL MILK BOTTLES IN CRATE</td>\n",
       "    </tr>\n",
       "    <tr>\n",
       "      <th>4</th>\n",
       "      <td>2.51</td>\n",
       "      <td>2.51</td>\n",
       "      <td>1</td>\n",
       "      <td>United Kingdom</td>\n",
       "      <td>2010-12-17</td>\n",
       "      <td>0 days 14:49:00</td>\n",
       "      <td>Garden</td>\n",
       "      <td>Hoses</td>\n",
       "      <td>FINE WICKER HEART</td>\n",
       "    </tr>\n",
       "  </tbody>\n",
       "</table>\n",
       "</div>"
      ],
      "text/plain": [
       "   unit_price  order_value  quantity         country invoice_date  \\\n",
       "0        0.85        10.20        12  United Kingdom   2011-07-04   \n",
       "1        2.95        35.40        12  United Kingdom   2011-11-15   \n",
       "2        1.25        20.00        16  United Kingdom   2011-04-27   \n",
       "3        7.46         7.46         1  United Kingdom   2011-10-31   \n",
       "4        2.51         2.51         1  United Kingdom   2010-12-17   \n",
       "\n",
       "     invoice_time major_category minor_category  \\\n",
       "0 0 days 09:35:00        Clothes           Tops   \n",
       "1 0 days 09:26:00        Clothes          Shoes   \n",
       "2 0 days 10:54:00        Kitchen        Cutlery   \n",
       "3 0 days 13:48:00         Garden           Turf   \n",
       "4 0 days 14:49:00         Garden          Hoses   \n",
       "\n",
       "                          description  \n",
       "0    PACK OF 20 NAPKINS PANTRY DESIGN  \n",
       "1      NATURAL SLATE HEART CHALKBOARD  \n",
       "2              36 PENCILS TUBE SKULLS  \n",
       "3  SET 6 SCHOOL MILK BOTTLES IN CRATE  \n",
       "4                   FINE WICKER HEART  "
      ]
     },
     "execution_count": 38,
     "metadata": {},
     "output_type": "execute_result"
    }
   ],
   "source": [
    "df.head()"
   ]
  },
  {
   "cell_type": "code",
   "execution_count": 39,
   "id": "6ac019b4",
   "metadata": {},
   "outputs": [
    {
     "name": "stdout",
     "output_type": "stream",
     "text": [
      "<class 'pandas.core.frame.DataFrame'>\n",
      "Index: 594 entries, 0 to 699\n",
      "Data columns (total 9 columns):\n",
      " #   Column          Non-Null Count  Dtype          \n",
      "---  ------          --------------  -----          \n",
      " 0   unit_price      594 non-null    float64        \n",
      " 1   order_value     594 non-null    float64        \n",
      " 2   quantity        594 non-null    int64          \n",
      " 3   country         594 non-null    object         \n",
      " 4   invoice_date    594 non-null    datetime64[ns] \n",
      " 5   invoice_time    594 non-null    timedelta64[ns]\n",
      " 6   major_category  594 non-null    object         \n",
      " 7   minor_category  594 non-null    object         \n",
      " 8   description     594 non-null    object         \n",
      "dtypes: datetime64[ns](1), float64(2), int64(1), object(4), timedelta64[ns](1)\n",
      "memory usage: 46.4+ KB\n"
     ]
    }
   ],
   "source": [
    "df.info()"
   ]
  },
  {
   "cell_type": "markdown",
   "id": "7d180982",
   "metadata": {},
   "source": [
    "## Removed Percentage"
   ]
  },
  {
   "cell_type": "code",
   "execution_count": 40,
   "id": "0600680b",
   "metadata": {},
   "outputs": [
    {
     "name": "stdout",
     "output_type": "stream",
     "text": [
      "Removed Data: 15.14%\n"
     ]
    }
   ],
   "source": [
    "print(f'Removed Data: {round((((data.shape[0] - df.shape[0]) / data.shape[0]) * 100), 2)}%')"
   ]
  },
  {
   "cell_type": "markdown",
   "id": "19e1c683",
   "metadata": {},
   "source": [
    "## Save New Data"
   ]
  },
  {
   "cell_type": "code",
   "execution_count": 41,
   "id": "ee9e3c29",
   "metadata": {},
   "outputs": [],
   "source": [
    "df.to_csv('Store Sales Cleaned.csv', index=False)"
   ]
  },
  {
   "cell_type": "markdown",
   "id": "53fb4962",
   "metadata": {},
   "source": [
    "# **Thanks**"
   ]
  }
 ],
 "metadata": {
  "kernelspec": {
   "display_name": "machine_learning",
   "language": "python",
   "name": "python3"
  },
  "language_info": {
   "codemirror_mode": {
    "name": "ipython",
    "version": 3
   },
   "file_extension": ".py",
   "mimetype": "text/x-python",
   "name": "python",
   "nbconvert_exporter": "python",
   "pygments_lexer": "ipython3",
   "version": "3.12.0"
  }
 },
 "nbformat": 4,
 "nbformat_minor": 5
}
